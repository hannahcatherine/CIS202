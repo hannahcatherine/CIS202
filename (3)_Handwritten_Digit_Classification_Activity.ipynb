{
  "nbformat": 4,
  "nbformat_minor": 0,
  "metadata": {
    "colab": {
      "provenance": [],
      "include_colab_link": true
    },
    "kernelspec": {
      "name": "python3",
      "display_name": "Python 3"
    },
    "language_info": {
      "name": "python"
    }
  },
  "cells": [
    {
      "cell_type": "markdown",
      "metadata": {
        "id": "view-in-github",
        "colab_type": "text"
      },
      "source": [
        "<a href=\"https://colab.research.google.com/github/hannahcatherine/CIS202/blob/main/(3)_Handwritten_Digit_Classification_Activity.ipynb\" target=\"_parent\"><img src=\"https://colab.research.google.com/assets/colab-badge.svg\" alt=\"Open In Colab\"/></a>"
      ]
    },
    {
      "cell_type": "markdown",
      "source": [
        "# Handwritten Digit Classification Activity\n",
        "\n",
        "In this activity we will build a machine learning model, speficially a decision tree classifier, that will detect the value of hand written digits. We will use the MNIST handwritten digit dataset, a common dataset used for instructional purposes.\n",
        "\n",
        "---\n",
        "\n"
      ],
      "metadata": {
        "id": "iRb5IiMkXtiy"
      }
    },
    {
      "cell_type": "markdown",
      "source": [
        "## 1. Import Necessary Libraries\n",
        "In order to get the necessary code we need to build our decision tree classifier, we must import some libraries. For this activity, numpy, tensorflow, matplotlib and Scikit learn are used. To import the necessary libraries, follow the comments and fill in the code below. After you complete your code, run it by pressing the play button on the left side of the code block.\n",
        "\n",
        "After you complete your code, run it by pressing the play button on the left side of the code block. If you get stuck, please raise your hand or glance at the solutions section at the very bottom of this document."
      ],
      "metadata": {
        "id": "SrrCgwXnYhdg"
      }
    },
    {
      "cell_type": "code",
      "execution_count": null,
      "metadata": {
        "id": "_ywssVOdoyyN"
      },
      "outputs": [],
      "source": [
        "# Some of this code is missing, add the necessary lines to import numpy\n",
        "# and tensorflow using the 'import' keyword. Use 'np' as the nickname for\n",
        "# numpy and 'tf' as the nickname for tensorflow. Remember that the 'as'\n",
        "# keyword is used to add nicknames\n",
        "# YOUR CODE GOES HERE ---\n",
        "\n",
        "# ---\n",
        "\n",
        "# Import matplotlib\n",
        "import matplotlib.pyplot as plt\n",
        "\n",
        "# Import the MNIST dataset\n",
        "from tensorflow.keras.datasets import mnist\n",
        "\n",
        "# Below, we have imported the necessary function for constructing a\n",
        "# decision tree classifier, though we are missing the function to evaulate\n",
        "# the accuracy of our model. Import 'accuracy_score' from the 'sklearn.metrics'\n",
        "# module.\n",
        "from sklearn.tree import DecisionTreeClassifier\n",
        "# YOUR CODE GOES HERE ---\n",
        "\n",
        "# ---"
      ]
    },
    {
      "cell_type": "markdown",
      "source": [
        "## 2. Load the Dataset\n",
        "The dataset we will be using is called the MNIST Handwritten Digit dataset. It consists of 28x28 pixel images that contain handwritten digits 0-9. We must load this dataset from one of our libraries in order to use it. To do so, call the library function `load_data()` from the `mnist` module. This function outputs the images and the labels from the dataset. It also already splits the dataset into a training set and a testing set for us. After loading the dataset the following variables will be defined:\n",
        "\n",
        "- `train_images` contains the images of the training set\n",
        "- `train_labels` contains the labels corresponding to the training images\n",
        "- `test_images` contains the images of the testing set\n",
        "- `test_labels` contains the labels corresponding to the testing images\n",
        "\n",
        "After you complete your code, run it by pressing the play button on the left side of the code block. If you get stuck, please raise your hand or glance at the solutions section at the very bottom of this document."
      ],
      "metadata": {
        "id": "XaLyNI32araf"
      }
    },
    {
      "cell_type": "code",
      "source": [
        "train_test = mnist\n",
        " (train_images, train_labels), (test_images, test_labels) = train_test.load_data()"
      ],
      "metadata": {
        "id": "B4r77VbHpaia"
      },
      "execution_count": null,
      "outputs": []
    },
    {
      "cell_type": "markdown",
      "source": [
        "## 3. Data Preprocessing\n",
        "While the MNIST dataset is well formatted for our needs, there are still a few things that must be done in order for our data to be in the proper format for our decision tree classifier. We must:\n",
        "\n",
        "1.   Reshape our images to be the right shape for our decision tree classifier.\n",
        "2.   Normalize the pixel values of the image to be from 0-255 to 0-1.\n",
        "3.   One-hot encode the labels.\n",
        "\n",
        "Step 1 has already been done for you. To do step 2, divide each image by `255.0` using a `/`. (Note: it is important to use `255.0` instead of `255`) To accomplish step 3, use `tf.one_hot`. This function takes our labels as the first input and the number of labels as the second input. Since our labels go from 0-9, we have 10 labels. Remember that inputs to the function go in parenthesis and are separated by commas.\n",
        "\n",
        "After you complete your code, run it by pressing the play button on the left side of the code block. If you get stuck, please raise your hand or glance at the solutions section at the very bottom of this document."
      ],
      "metadata": {
        "id": "VM6OUxrZcd8G"
      }
    },
    {
      "cell_type": "code",
      "source": [
        "# Step 1 ---\n",
        "# This bit of code reshapes the images into the necessary format for our\n",
        "# decision tree classifier. Note that we make a new variables for the\n",
        "# transformed images. These variables will contain the images in the\n",
        "# required format for our decision tree classifier.\n",
        "image_count, width, height = np.shape(train_images)\n",
        "train_images_transformed = np.reshape(train_images, (image_count, width * height))\n",
        "image_count, width, height = np.shape(test_images)\n",
        "test_images_transformed = np.reshape(test_images, (image_count, width * height))\n",
        "# ---\n",
        "\n",
        "# Step 2 ---\n",
        "# Now we must normalize the pixel values. Divide the transformed images by\n",
        "# 255.0 using a slash.\n",
        "train_images_transformed = # REPLACE THIS COMMENT WITH YOUR CODE\n",
        "test_images_transformed = # REPLACE THIS COMMENT WITH YOUR CODE\n",
        "# ---\n",
        "\n",
        "# Step 3 ---\n",
        "# Now we must encode the lables for our decision tree classifier. Recall that we\n",
        "# are using one-hot encoding. To one-hot encode our labels, use 'one_hot' from\n",
        "# 'tf' like so 'tf.one_hot(labels, label_count)'. Do so for both the train and\n",
        "# test labels.\n",
        "train_labels = # REPLACE THIS COMMENT WITH YOUR CODE\n",
        "test_labels = # REPLACE THIS COMMENT WITH YOUR CODE\n",
        "# ---"
      ],
      "metadata": {
        "id": "EgGXGa1VplBx"
      },
      "execution_count": null,
      "outputs": []
    },
    {
      "cell_type": "markdown",
      "source": [
        "## 4. Building the Decision Tree Classifier\n",
        "We are now ready to create the decision tree classifier! To do so we will use the `DecisionTreeClassifier` function that we imported earlier. Call this function with the inputs `criterion = \"entropy\"` and `random_state = 0`. Do not worry too much about understanding these inputs at the moment. They are what are called *hyperparameters*, meaning parameters about *how* the model learns.\n",
        "\n",
        "After you complete your code, run it by pressing the play button on the left side of the code block. If you get stuck, please raise your hand or glance at the solutions section at the very bottom of this document."
      ],
      "metadata": {
        "id": "N93mPPJpingp"
      }
    },
    {
      "cell_type": "code",
      "source": [
        "dtc = # REPLACE THIS COMMENT WITH YOUR CODE"
      ],
      "metadata": {
        "id": "mMpkzO7eCPhc"
      },
      "execution_count": null,
      "outputs": []
    },
    {
      "cell_type": "markdown",
      "source": [
        "## 5. Training the Decision Tree Classifier\n",
        "We are finally ready to train our decision tree classifier. In Scikit Learn, the library our decision tree classifier is from, the train function is called `fit`. It is named fit because when you call it you are 'fitting' the model to your data. Remember that training requires the images and the labels. (because how would our model know how to get better if it didn't have the labels?) As such, the `fit` function takes two inputs, the images and the labels. To train the model, call the `fit` function with the **transformed training images** and the **training labels**.\n",
        "\n",
        "After you complete your code, run it by pressing the play button on the left side of the code block. Note that this code block may take a little longer to run than others. If you get stuck, please raise your hand or glance at the solutions section at the very bottom of this document."
      ],
      "metadata": {
        "id": "6lqpjGMmjvRb"
      }
    },
    {
      "cell_type": "code",
      "source": [
        "# This function trains, or 'fits' the model to our data. Fill in the requried\n",
        "# inputs.\n",
        "dtc.fit() # THIS LINE IS INCOMPLETE"
      ],
      "metadata": {
        "id": "HKo8UQhBj1Sm"
      },
      "execution_count": null,
      "outputs": []
    },
    {
      "cell_type": "markdown",
      "source": [
        "## 6. Testing the Decision Tree Classifier\n",
        "Since our model has been hard at work training on our data, it is finally time to test its performance! We can do so by **predicting** the labels of images that the model has never seen before. We will do so by calling the `predict` function from our model (`dtc`) with the input being the **transformed testing images**.\n",
        "\n",
        "After you complete your code, run it by pressing the play button on the left side of the code block. Note that this code block may take a little longer to run than others. If you get stuck, please raise your hand or glance at the solutions section at the very bottom of this document."
      ],
      "metadata": {
        "id": "YzE8XRntlagh"
      }
    },
    {
      "cell_type": "code",
      "source": [
        "# This function gets the labels that the model predicts when given input images.\n",
        "# We want to get the predicted labels for our training data. To do so, fill in\n",
        "# the required input.\n",
        "predicted_labels = dtc.predict() # THIS LINE IS INCOMPLETE"
      ],
      "metadata": {
        "id": "e8WzlAHwCZSv"
      },
      "execution_count": null,
      "outputs": []
    },
    {
      "cell_type": "markdown",
      "source": [
        "## 7. Evaluating Performance\n",
        "Now it is time to see how our model performed on the testing data. To do so we will use the `accuracy_score` function that we imported earlier. This function takes two inputs, the **predicted labels** and the **actual labels**. Note that the actual labels are the test labels from the dataset, a.k.a `test_labels`. This code will show the accuracy of the model as a percentage that it got correct (much like a test). Did your model pass?\n",
        "\n",
        "After you complete your code, run it by pressing the play button on the left side of the code block. Note that this code block may take a little longer to run than others. If you get stuck, please raise your hand or glance at the solutions section at the very bottom of this document"
      ],
      "metadata": {
        "id": "MC-5omu9mwel"
      }
    },
    {
      "cell_type": "code",
      "source": [
        "# Fill in the required inputs. Remember that the accuracy score function takes\n",
        "# the predicted labels and the actual labels.\n",
        "accuracy = accuracy_score() # THIS LINE IS INCOMPLETE\n",
        "print(accuracy * 100)"
      ],
      "metadata": {
        "id": "0_-Kh1-dENCA"
      },
      "execution_count": null,
      "outputs": []
    },
    {
      "cell_type": "markdown",
      "source": [
        "## 8. Visualizing Performance\n",
        "Finally, we will view a sample of the test set along with the predictions our model made. The label is green if the model got it correct and red if it got it incorrect. Closely observe the images that the model falsely predicted. Are these predictions reasonable? Based on these findings, what does the model struggle with?\n",
        "\n",
        "This section has been completed for you. Run the code below using the run button."
      ],
      "metadata": {
        "id": "rFMmRBr_n94U"
      }
    },
    {
      "cell_type": "code",
      "source": [
        "def visualize_predictions(width, height):\n",
        "  plt.figure(figsize = (2*width, 2*height))\n",
        "  for i in range(width*height):\n",
        "    predicted_label = tf.argmax(predicted_labels[i])\n",
        "    actual_label = tf.argmax(test_labels[i])\n",
        "    if predicted_label == actual_label:\n",
        "      color = \"green\"\n",
        "    else:\n",
        "      color = \"red\"\n",
        "\n",
        "    plt.subplot(width, height, i + 1)\n",
        "    plt.grid(False)\n",
        "    plt.xticks([])\n",
        "    plt.yticks([])\n",
        "    plt.imshow(test_images[i], cmap = \"gray\")\n",
        "\n",
        "    plt.xlabel(\"pred: {}, actual: {}\".format(predicted_label, actual_label), color = color)\n",
        "\n",
        "  plt.tight_layout()\n",
        "  plt.show()\n",
        "\n",
        "visualize_predictions(5, 5)"
      ],
      "metadata": {
        "collapsed": true,
        "id": "N62sZ-xoEZ-p"
      },
      "execution_count": null,
      "outputs": []
    }
  ]
}